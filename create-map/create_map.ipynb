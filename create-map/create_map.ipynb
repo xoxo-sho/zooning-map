{
 "cells": [
  {
   "cell_type": "code",
   "execution_count": 8,
   "metadata": {},
   "outputs": [],
   "source": [
    "from ipyleaflet import Map, Polygon, basemaps, LegendControl\n",
    "from lxml import etree\n",
    "\n",
    "import tqdm"
   ]
  },
  {
   "cell_type": "code",
   "execution_count": 24,
   "metadata": {},
   "outputs": [],
   "source": [
    "# 用途地域の色を指定（マップに塗りつぶす色）\n",
    "color_dic = {\n",
    "    \"第一種低層住居専用地域\": \"#440154\",\n",
    "    \"第二種低層住居専用地域\": \"#481f70\", \n",
    "    \"第一種中高層住居専用地域\": \"#443983\", \n",
    "    \"第二種中高層住居専用地域\": \"#3b528b\", \n",
    "    \"第一種住居地域\": \"#31688e\", \n",
    "    \"第二種住居地域\": \"#287c8e\", \n",
    "    \"準住居地域\": \"#21918c\", \n",
    "    \"近隣商業地域\": \"#20a486\", \n",
    "    \"商業地域\": \"#35b779\", \n",
    "    \"準工業地域\": \"#5ec962\", \n",
    "    \"工業地域\": \"#90d743\", \n",
    "    \"工業専用地域\": \"#c8e020\", \n",
    "    \"不明\": \"#fde725\", \n",
    "}\n",
    "\n",
    "# 表示する用途地域のxmlファイルpath\n",
    "xml_path = \"\""
   ]
  },
  {
   "cell_type": "code",
   "execution_count": 28,
   "metadata": {},
   "outputs": [],
   "source": [
    "def add_polygon_to_map(m, coordinates, kda):\n",
    "    '''\n",
    "    マップにポリゴンを加える\n",
    "    '''\n",
    "    polygon = Polygon(\n",
    "        locations = coordinates,\n",
    "        color = 'transparent' ,\n",
    "        fill_color = color_dic[kda],\n",
    "        fill_opacity = 0.6\n",
    "    )\n",
    "\n",
    "    m.add_layer(polygon)\n",
    "\n",
    "def create_map(xml_path, color_dic):\n",
    "\n",
    "    tree = etree.parse(xml_path) # XMLファイルを読み込む  \n",
    "    root = tree.getroot() # 一番上の階層の要素を取り出します\n",
    "    \n",
    "    # マップを描画\n",
    "    m = Map(center=(35.6894, 139.6917), zoom=15, basemap=basemaps.CartoDB.Positron) # 初期表示位置は東京\n",
    "    # マップのサイズを指定\n",
    "    m.layout.width = '1000px'\n",
    "    m.layout.height = '600px'\n",
    "\n",
    "    # 判例の設定\n",
    "    legend = LegendControl(color_dic, position=\"topright\")\n",
    "    legend.style = {'width': '400px', 'height': '200px', 'font-size': '10px'}\n",
    "    m.add_control(legend)\n",
    "    \n",
    "    # 名前空間を辞書に格納\n",
    "    nsmap = {\n",
    "        'ksj': 'http://nlftp.mlit.go.jp/ksj/schemas/ksj-app',\n",
    "        'gml': 'http://www.opengis.net/gml',\n",
    "        'xlink': 'http://www.w3.org/1999/xlink'\n",
    "    }\n",
    "\n",
    "    # 各エリアのポリゴンの情報を取得\n",
    "    for area in tqdm.tqdm(root.findall('.//ksj:DesignatedArea', namespaces=nsmap)):\n",
    "        surface_ref = area.find('ksj:cda', namespaces=root.nsmap).attrib['{http://www.w3.org/1999/xlink}href'].lstrip('#')\n",
    "        use_name = area.find('ksj:kda', namespaces=root.nsmap).text\n",
    "        curve_ref = root.find('.//gml:Surface[@gml:id=\"{}\"]/gml:patches/gml:PolygonPatch/gml:exterior/gml:Ring/gml:curveMember'.format(surface_ref), namespaces=root.nsmap).attrib['{http://www.w3.org/1999/xlink}href'].lstrip('#')\n",
    "        coords = root.find('.//gml:Curve[@gml:id=\"{}\"]/gml:segments/gml:LineStringSegment/gml:posList'.format(curve_ref), namespaces=root.nsmap).text.split()\n",
    "        coords = [(float(coords[i]), float(coords[i+1])) for i in range(0, len(coords), 2)]\n",
    "        \n",
    "        add_polygon_to_map(m, coords, use_name)\n",
    "\n",
    "    \n",
    "    m"
   ]
  },
  {
   "cell_type": "code",
   "execution_count": 29,
   "metadata": {},
   "outputs": [
    {
     "name": "stderr",
     "output_type": "stream",
     "text": [
      "100%|██████████| 3183/3183 [00:12<00:00, 250.12it/s]\n"
     ]
    }
   ],
   "source": [
    "create_map(xml_path, color_dic)"
   ]
  }
 ],
 "metadata": {
  "kernelspec": {
   "display_name": ".venv",
   "language": "python",
   "name": "python3"
  },
  "language_info": {
   "codemirror_mode": {
    "name": "ipython",
    "version": 3
   },
   "file_extension": ".py",
   "mimetype": "text/x-python",
   "name": "python",
   "nbconvert_exporter": "python",
   "pygments_lexer": "ipython3",
   "version": "3.10.12"
  }
 },
 "nbformat": 4,
 "nbformat_minor": 2
}
